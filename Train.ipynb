{
 "cells": [
  {
   "cell_type": "code",
   "execution_count": 1,
   "metadata": {},
   "outputs": [],
   "source": [
    "import numpy as np\n",
    "import matplotlib.pyplot as plt\n",
    "import pandas as pd\n",
    "import string\n",
    "import random\n",
    "import math\n",
    "from tqdm import tqdm"
   ]
  },
  {
   "cell_type": "markdown",
   "metadata": {},
   "source": [
    "# Задание:\n",
    "Разработать скрипт, который будет с адекватным качеством классифицировать тексты по стилю (“разговорный”, “техническая литература”, “художественная литература”). \n",
    "(качество может быть ограничено лимитированным временем).\n",
    "Обучающий датасет не предоставляется."
   ]
  },
  {
   "cell_type": "markdown",
   "metadata": {},
   "source": [
    "# Данные"
   ]
  },
  {
   "cell_type": "markdown",
   "metadata": {},
   "source": [
    "### Разговорная речь"
   ]
  },
  {
   "cell_type": "markdown",
   "metadata": {},
   "source": [
    "В качестве примеров разговорной речи я взял твиты отсюда https://www.kaggle.com/kazanova/sentiment140?select=training.1600000.processed.noemoticon.csv\n",
    "\n",
    "В каждом твите убрал знаки препинания, лишние пробелы и сделал все буквы строчными"
   ]
  },
  {
   "cell_type": "code",
   "execution_count": 2,
   "metadata": {},
   "outputs": [
    {
     "data": {
      "text/html": [
       "<div>\n",
       "<style scoped>\n",
       "    .dataframe tbody tr th:only-of-type {\n",
       "        vertical-align: middle;\n",
       "    }\n",
       "\n",
       "    .dataframe tbody tr th {\n",
       "        vertical-align: top;\n",
       "    }\n",
       "\n",
       "    .dataframe thead th {\n",
       "        text-align: right;\n",
       "    }\n",
       "</style>\n",
       "<table border=\"1\" class=\"dataframe\">\n",
       "  <thead>\n",
       "    <tr style=\"text-align: right;\">\n",
       "      <th></th>\n",
       "      <th>text</th>\n",
       "      <th>target</th>\n",
       "    </tr>\n",
       "  </thead>\n",
       "  <tbody>\n",
       "    <tr>\n",
       "      <th>0</th>\n",
       "      <td>switchfoot httptwitpiccom2y1zl  awww thats a b...</td>\n",
       "      <td>0.0</td>\n",
       "    </tr>\n",
       "    <tr>\n",
       "      <th>1</th>\n",
       "      <td>is upset that he cant update his facebook by t...</td>\n",
       "      <td>0.0</td>\n",
       "    </tr>\n",
       "    <tr>\n",
       "      <th>2</th>\n",
       "      <td>kenichan i dived many times for the ball manag...</td>\n",
       "      <td>0.0</td>\n",
       "    </tr>\n",
       "    <tr>\n",
       "      <th>3</th>\n",
       "      <td>my whole body feels itchy and like its on fire</td>\n",
       "      <td>0.0</td>\n",
       "    </tr>\n",
       "    <tr>\n",
       "      <th>4</th>\n",
       "      <td>nationwideclass no its not behaving at all im ...</td>\n",
       "      <td>0.0</td>\n",
       "    </tr>\n",
       "  </tbody>\n",
       "</table>\n",
       "</div>"
      ],
      "text/plain": [
       "                                                text  target\n",
       "0  switchfoot httptwitpiccom2y1zl  awww thats a b...     0.0\n",
       "1  is upset that he cant update his facebook by t...     0.0\n",
       "2  kenichan i dived many times for the ball manag...     0.0\n",
       "3    my whole body feels itchy and like its on fire      0.0\n",
       "4  nationwideclass no its not behaving at all im ...     0.0"
      ]
     },
     "execution_count": 2,
     "metadata": {},
     "output_type": "execute_result"
    }
   ],
   "source": [
    "data_1 = pd.read_csv('tweets.csv', encoding='ISO-8859-1', names=[1, 2, 3, 4, 5, 'text'])\n",
    "data_1['target'] = np.zeros(len(data_1))\n",
    "data_1 = data_1[['text', 'target']]\n",
    "data_1['text'] = data_1.apply(lambda x: x[0].translate(str.maketrans('', '', string.punctuation)).lower(), axis=1)\n",
    "data_1.head()"
   ]
  },
  {
   "cell_type": "markdown",
   "metadata": {},
   "source": [
    "Давайте посмотрим на распределение длин получившихся строк"
   ]
  },
  {
   "cell_type": "code",
   "execution_count": 3,
   "metadata": {},
   "outputs": [
    {
     "data": {
      "text/plain": [
       "(array([ 459., 1211., 1392., 1451., 1253., 1128.,  939.,  826., 1092.,\n",
       "         249.]),\n",
       " array([  5. ,  19.2,  33.4,  47.6,  61.8,  76. ,  90.2, 104.4, 118.6,\n",
       "        132.8, 147. ]),\n",
       " <a list of 10 Patch objects>)"
      ]
     },
     "execution_count": 3,
     "metadata": {},
     "output_type": "execute_result"
    },
    {
     "data": {
      "image/png": "[encoded data removed]",
      "text/plain": [
       "<Figure size 432x288 with 1 Axes>"
      ]
     },
     "metadata": {
      "needs_background": "light"
     },
     "output_type": "display_data"
    }
   ],
   "source": [
    "plt.hist(data_1[:10000].apply(lambda x: len(x[0]), axis=1))"
   ]
  },
  {
   "cell_type": "markdown",
   "metadata": {},
   "source": [
    "### Художественная литература"
   ]
  },
  {
   "cell_type": "markdown",
   "metadata": {},
   "source": [
    "В качестве примеров художественной литературы я взял три книги: \"Великий Гэтсби\", \"Старик и море\" и \"1984\" "
   ]
  },
  {
   "cell_type": "code",
   "execution_count": 4,
   "metadata": {},
   "outputs": [],
   "source": [
    "def remove_punctuation(a):\n",
    "    black_symbols = ''.join([chr(num) for num in range(32)]) + string.punctuation + '”“’…—'\n",
    "    res = a.translate(str.maketrans('', '', black_symbols)).lower()\n",
    "    res = res.replace('\\n', ' ').replace('section', ' ').replace('chapter', ' ')\n",
    "    return res"
   ]
  },
  {
   "cell_type": "markdown",
   "metadata": {},
   "source": [
    "Аналогично уберём знаки препинания, лишние пробелы и сделаем все буквы строчными"
   ]
  },
  {
   "cell_type": "code",
   "execution_count": 5,
   "metadata": {},
   "outputs": [],
   "source": [
    "tmp1 = remove_punctuation(open(\"The-Great-Gatsby.txt\", \"r\").read())\n",
    "tmp2 = remove_punctuation(open(\"old_man.txt\", \"r\").read())\n",
    "tmp3 = remove_punctuation(open(\"1984.txt\", \"r\").read())"
   ]
  },
  {
   "cell_type": "markdown",
   "metadata": {},
   "source": [
    "Из каждой книги извлечём случайные подстроки от 20 до 150 символов (чтобы длина была как у твитов)"
   ]
  },
  {
   "cell_type": "code",
   "execution_count": 6,
   "metadata": {},
   "outputs": [],
   "source": [
    "def get_random_substring(a):\n",
    "    left = random.randint(0, len(a))\n",
    "    right = left + random.randint(20, 150)\n",
    "    return a[left:right]"
   ]
  },
  {
   "cell_type": "code",
   "execution_count": 7,
   "metadata": {},
   "outputs": [],
   "source": [
    "data_2 = []\n",
    "for _ in range(int(5e5)):\n",
    "    data_2.append([get_random_substring(tmp1), 1])\n",
    "    data_2.append([get_random_substring(tmp2), 1])\n",
    "    data_2.append([get_random_substring(tmp3), 1])"
   ]
  },
  {
   "cell_type": "code",
   "execution_count": 8,
   "metadata": {
    "scrolled": false
   },
   "outputs": [
    {
     "data": {
      "text/html": [
       "<div>\n",
       "<style scoped>\n",
       "    .dataframe tbody tr th:only-of-type {\n",
       "        vertical-align: middle;\n",
       "    }\n",
       "\n",
       "    .dataframe tbody tr th {\n",
       "        vertical-align: top;\n",
       "    }\n",
       "\n",
       "    .dataframe thead th {\n",
       "        text-align: right;\n",
       "    }\n",
       "</style>\n",
       "<table border=\"1\" class=\"dataframe\">\n",
       "  <thead>\n",
       "    <tr style=\"text-align: right;\">\n",
       "      <th></th>\n",
       "      <th>text</th>\n",
       "      <th>target</th>\n",
       "    </tr>\n",
       "  </thead>\n",
       "  <tbody>\n",
       "    <tr>\n",
       "      <th>0</th>\n",
       "      <td>he tiredand daisy ought to have something in h...</td>\n",
       "      <td>1</td>\n",
       "    </tr>\n",
       "    <tr>\n",
       "      <th>1</th>\n",
       "      <td>s jaws were working convulsively in quick bite...</td>\n",
       "      <td>1</td>\n",
       "    </tr>\n",
       "    <tr>\n",
       "      <th>2</th>\n",
       "      <td>with a rubber club the next moment however the...</td>\n",
       "      <td>1</td>\n",
       "    </tr>\n",
       "    <tr>\n",
       "      <th>3</th>\n",
       "      <td>t she looked at me with an absolute smirk on h...</td>\n",
       "      <td>1</td>\n",
       "    </tr>\n",
       "    <tr>\n",
       "      <th>4</th>\n",
       "      <td>o know that this had truly happened and was no...</td>\n",
       "      <td>1</td>\n",
       "    </tr>\n",
       "  </tbody>\n",
       "</table>\n",
       "</div>"
      ],
      "text/plain": [
       "                                                text  target\n",
       "0  he tiredand daisy ought to have something in h...       1\n",
       "1  s jaws were working convulsively in quick bite...       1\n",
       "2  with a rubber club the next moment however the...       1\n",
       "3  t she looked at me with an absolute smirk on h...       1\n",
       "4  o know that this had truly happened and was no...       1"
      ]
     },
     "execution_count": 8,
     "metadata": {},
     "output_type": "execute_result"
    }
   ],
   "source": [
    "data_2 = pd.DataFrame(data_2, columns=['text', 'target'])\n",
    "data_2.head()"
   ]
  },
  {
   "cell_type": "markdown",
   "metadata": {},
   "source": [
    "### Техническая литература"
   ]
  },
  {
   "cell_type": "markdown",
   "metadata": {},
   "source": [
    "В качестве примеров технической литературы я взял отрывки из кормена и учебника по графам"
   ]
  },
  {
   "cell_type": "code",
   "execution_count": 9,
   "metadata": {},
   "outputs": [],
   "source": [
    "tmp1 = remove_punctuation(open(\"Introduction to Algorithms, Third Edition.txt\", \"r\").read())\n",
    "tmp2 = remove_punctuation(open(\"GT_Bondy_Murty_3.txt\", \"r\").read())"
   ]
  },
  {
   "cell_type": "markdown",
   "metadata": {},
   "source": [
    "И проделал то же самое, что и с художественной литературой"
   ]
  },
  {
   "cell_type": "code",
   "execution_count": 10,
   "metadata": {},
   "outputs": [],
   "source": [
    "data_3 = []\n",
    "for _ in range(int(8e5)):\n",
    "    data_3.append([get_random_substring(tmp1), 2])\n",
    "    data_3.append([get_random_substring(tmp2), 2])"
   ]
  },
  {
   "cell_type": "code",
   "execution_count": 11,
   "metadata": {},
   "outputs": [
    {
     "data": {
      "text/html": [
       "<div>\n",
       "<style scoped>\n",
       "    .dataframe tbody tr th:only-of-type {\n",
       "        vertical-align: middle;\n",
       "    }\n",
       "\n",
       "    .dataframe tbody tr th {\n",
       "        vertical-align: top;\n",
       "    }\n",
       "\n",
       "    .dataframe thead th {\n",
       "        text-align: right;\n",
       "    }\n",
       "</style>\n",
       "<table border=\"1\" class=\"dataframe\">\n",
       "  <thead>\n",
       "    <tr style=\"text-align: right;\">\n",
       "      <th></th>\n",
       "      <th>text</th>\n",
       "      <th>target</th>\n",
       "    </tr>\n",
       "  </thead>\n",
       "  <tbody>\n",
       "    <tr>\n",
       "      <th>0</th>\n",
       "      <td>entication tag t d hm and bob checks that the ...</td>\n",
       "      <td>2</td>\n",
       "    </tr>\n",
       "    <tr>\n",
       "      <th>1</th>\n",
       "      <td>− 1 edgedisjoint segments bythe pigeonhole pr...</td>\n",
       "      <td>2</td>\n",
       "    </tr>\n",
       "    <tr>\n",
       "      <th>2</th>\n",
       "      <td>e the time required to perform a sequence ofda...</td>\n",
       "      <td>2</td>\n",
       "    </tr>\n",
       "    <tr>\n",
       "      <th>3</th>\n",
       "      <td>upergraphs41all other subgraphs f and supergra...</td>\n",
       "      <td>2</td>\n",
       "    </tr>\n",
       "    <tr>\n",
       "      <th>4</th>\n",
       "      <td>of this book we shall assume a generic onepro...</td>\n",
       "      <td>2</td>\n",
       "    </tr>\n",
       "  </tbody>\n",
       "</table>\n",
       "</div>"
      ],
      "text/plain": [
       "                                                text  target\n",
       "0  entication tag t d hm and bob checks that the ...       2\n",
       "1   − 1 edgedisjoint segments bythe pigeonhole pr...       2\n",
       "2  e the time required to perform a sequence ofda...       2\n",
       "3  upergraphs41all other subgraphs f and supergra...       2\n",
       "4   of this book we shall assume a generic onepro...       2"
      ]
     },
     "execution_count": 11,
     "metadata": {},
     "output_type": "execute_result"
    }
   ],
   "source": [
    "data_3 = pd.DataFrame(data_3, columns=['text', 'target'])\n",
    "data_3.head()"
   ]
  },
  {
   "cell_type": "code",
   "execution_count": 12,
   "metadata": {},
   "outputs": [
    {
     "data": {
      "text/html": [
       "<div>\n",
       "<style scoped>\n",
       "    .dataframe tbody tr th:only-of-type {\n",
       "        vertical-align: middle;\n",
       "    }\n",
       "\n",
       "    .dataframe tbody tr th {\n",
       "        vertical-align: top;\n",
       "    }\n",
       "\n",
       "    .dataframe thead th {\n",
       "        text-align: right;\n",
       "    }\n",
       "</style>\n",
       "<table border=\"1\" class=\"dataframe\">\n",
       "  <thead>\n",
       "    <tr style=\"text-align: right;\">\n",
       "      <th></th>\n",
       "      <th>text</th>\n",
       "      <th>target</th>\n",
       "    </tr>\n",
       "  </thead>\n",
       "  <tbody>\n",
       "    <tr>\n",
       "      <th>0</th>\n",
       "      <td>switchfoot httptwitpiccom2y1zl  awww thats a b...</td>\n",
       "      <td>0.0</td>\n",
       "    </tr>\n",
       "    <tr>\n",
       "      <th>1</th>\n",
       "      <td>is upset that he cant update his facebook by t...</td>\n",
       "      <td>0.0</td>\n",
       "    </tr>\n",
       "    <tr>\n",
       "      <th>2</th>\n",
       "      <td>kenichan i dived many times for the ball manag...</td>\n",
       "      <td>0.0</td>\n",
       "    </tr>\n",
       "    <tr>\n",
       "      <th>3</th>\n",
       "      <td>my whole body feels itchy and like its on fire</td>\n",
       "      <td>0.0</td>\n",
       "    </tr>\n",
       "    <tr>\n",
       "      <th>4</th>\n",
       "      <td>nationwideclass no its not behaving at all im ...</td>\n",
       "      <td>0.0</td>\n",
       "    </tr>\n",
       "  </tbody>\n",
       "</table>\n",
       "</div>"
      ],
      "text/plain": [
       "                                                text  target\n",
       "0  switchfoot httptwitpiccom2y1zl  awww thats a b...     0.0\n",
       "1  is upset that he cant update his facebook by t...     0.0\n",
       "2  kenichan i dived many times for the ball manag...     0.0\n",
       "3    my whole body feels itchy and like its on fire      0.0\n",
       "4  nationwideclass no its not behaving at all im ...     0.0"
      ]
     },
     "execution_count": 12,
     "metadata": {},
     "output_type": "execute_result"
    }
   ],
   "source": [
    "data = pd.concat([data_1, data_2, data_3])\n",
    "data.head()"
   ]
  },
  {
   "cell_type": "markdown",
   "metadata": {},
   "source": [
    "В итоге мы собрали датасет с текстами длиной от 20 до 150, причём все классы представленны в одинаковом количестве"
   ]
  },
  {
   "cell_type": "markdown",
   "metadata": {},
   "source": [
    "# Модель"
   ]
  },
  {
   "cell_type": "markdown",
   "metadata": {},
   "source": [
    "### Препроцессинг"
   ]
  },
  {
   "cell_type": "markdown",
   "metadata": {},
   "source": [
    "Разделим все наши данные на обучающую и тестовую выборки. Так как данных получилось слишком много, возьмём только часть для дальнейшей работы"
   ]
  },
  {
   "cell_type": "code",
   "execution_count": 13,
   "metadata": {},
   "outputs": [],
   "source": [
    "from sklearn.model_selection import train_test_split\n",
    "\n",
    "data_train, data_val = train_test_split(data, test_size=0.2, random_state=42)\n",
    "\n",
    "#\n",
    "data_train = data_train[:10000]\n",
    "data_val = data_val[:5000]"
   ]
  },
  {
   "cell_type": "markdown",
   "metadata": {},
   "source": [
    "Сделаем так, чтобы каждый текст представлял из себя токены разделённые пробелом"
   ]
  },
  {
   "cell_type": "code",
   "execution_count": 14,
   "metadata": {},
   "outputs": [],
   "source": [
    "import nltk\n",
    "from collections import Counter\n",
    "\n",
    "tokenizer = nltk.tokenize.WordPunctTokenizer()\n",
    "token_counts = Counter()"
   ]
  },
  {
   "cell_type": "code",
   "execution_count": 15,
   "metadata": {},
   "outputs": [],
   "source": [
    "data_train['text'] = data_train.apply(lambda x: ' '.join(tokenizer.tokenize(x[0])), axis=1)"
   ]
  },
  {
   "cell_type": "markdown",
   "metadata": {},
   "source": [
    "Теперь посмотрим сколько раз встречается каждый токен в нашем корпусе"
   ]
  },
  {
   "cell_type": "code",
   "execution_count": 16,
   "metadata": {},
   "outputs": [],
   "source": [
    "for sentence in data_train['text']:\n",
    "    token_counts.update(sentence.split())"
   ]
  },
  {
   "cell_type": "code",
   "execution_count": 17,
   "metadata": {},
   "outputs": [
    {
     "name": "stdout",
     "output_type": "stream",
     "text": [
      "Total unique tokens : 22275\n",
      "('the', 7057)\n",
      "('a', 3890)\n",
      "('of', 3684)\n",
      "('and', 3349)\n",
      "('to', 2989)\n",
      "...\n",
      "('sigourney', 1)\n",
      "('howard', 1)\n",
      "('hurrying', 1)\n",
      "('talkedher', 1)\n",
      "('waved', 1)\n"
     ]
    }
   ],
   "source": [
    "print(\"Total unique tokens :\", len(token_counts))\n",
    "print('\\n'.join(map(str, token_counts.most_common(n=5))))\n",
    "print('...')\n",
    "print('\\n'.join(map(str, token_counts.most_common()[-5:])))"
   ]
  },
  {
   "cell_type": "code",
   "execution_count": 18,
   "metadata": {},
   "outputs": [
    {
     "data": {
      "text/plain": [
       "Text(0.5, 0, 'Counts')"
      ]
     },
     "execution_count": 18,
     "metadata": {},
     "output_type": "execute_result"
    },
    {
     "data": {
      "image/png": "[encoded data removed]",
      "text/plain": [
       "<Figure size 432x288 with 1 Axes>"
      ]
     },
     "metadata": {
      "needs_background": "light"
     },
     "output_type": "display_data"
    }
   ],
   "source": [
    "_ = plt.hist(list(token_counts.values()), bins=50, log=True)\n",
    "plt.xlabel(\"Counts\")"
   ]
  },
  {
   "cell_type": "markdown",
   "metadata": {},
   "source": [
    "Мы не хотим учитывать опечатки и редкие слова, поэтому оставим только токены, которы встречаются > 10 раз"
   ]
  },
  {
   "cell_type": "code",
   "execution_count": 19,
   "metadata": {},
   "outputs": [],
   "source": [
    "stop_tokens = [key for key, value in token_counts.items() if value < 10]"
   ]
  },
  {
   "cell_type": "markdown",
   "metadata": {},
   "source": [
    "Для всех остальных токенов посчитаем $tf-idf$. Таким образом для каждого текста получили векторное представление"
   ]
  },
  {
   "cell_type": "code",
   "execution_count": 20,
   "metadata": {},
   "outputs": [
    {
     "name": "stdout",
     "output_type": "stream",
     "text": [
      "(10000, 1529)\n"
     ]
    }
   ],
   "source": [
    "from sklearn.feature_extraction.text import TfidfVectorizer\n",
    "vectorizer = TfidfVectorizer(stop_words=stop_tokens)\n",
    "x_train = vectorizer.fit_transform(data_train['text'])\n",
    "x_train = np.array(x_train.todense())\n",
    "print(x_train.shape)"
   ]
  },
  {
   "cell_type": "code",
   "execution_count": 21,
   "metadata": {},
   "outputs": [],
   "source": [
    "y_train = data_train['target'].values"
   ]
  },
  {
   "cell_type": "code",
   "execution_count": 22,
   "metadata": {},
   "outputs": [],
   "source": [
    "data_val['text'] = data_val.apply(lambda x: ' '.join(tokenizer.tokenize(x[0])), axis=1)\n",
    "x_val = vectorizer.transform(data_val['text'])\n",
    "x_val = np.array(x_val.todense())\n",
    "y_val = data_val['target'].values"
   ]
  },
  {
   "cell_type": "markdown",
   "metadata": {},
   "source": [
    "### Обучение модели"
   ]
  },
  {
   "cell_type": "code",
   "execution_count": 23,
   "metadata": {},
   "outputs": [],
   "source": [
    "import torch, torch.nn as nn\n",
    "import torch.nn.functional as F\n",
    "import torch.optim as optim"
   ]
  },
  {
   "cell_type": "code",
   "execution_count": 24,
   "metadata": {},
   "outputs": [],
   "source": [
    "def get_batch(data_x, data_y, size):\n",
    "    '''\n",
    "    Возвращает случайный батч размера size\n",
    "    '''\n",
    "    assert (len(data_x) == len(data_y))\n",
    "    sample = np.random.choice(len(data_x), size)\n",
    "    x0 = torch.tensor(data_x[sample][:, None, :], dtype=torch.float32)\n",
    "    y0 = torch.tensor(data_y[sample], dtype=torch.long)\n",
    "    \n",
    "    return x0, y0"
   ]
  },
  {
   "cell_type": "code",
   "execution_count": 31,
   "metadata": {},
   "outputs": [],
   "source": [
    "def get_accuracy(y_true, y_pred):\n",
    "    '''\n",
    "    Считает accuracy\n",
    "    '''\n",
    "    y_true = y_true.detach().numpy()\n",
    "    y_pred = np.argmax(y_pred.detach().numpy(), axis=1)\n",
    "    \n",
    "    return (y_true == y_pred).mean()"
   ]
  },
  {
   "cell_type": "markdown",
   "metadata": {},
   "source": [
    "В качестве модели выберем нейронную сеть с 4 скрытыми слоями. На вход она получает векторное представление текста, а на выходе вектор из трёх чисел: $[\\ln(p_1), ~ \\ln(p_2), ~ \\ln(p_3)]$, где $p_i$ - вероятность, что текст принадлежит соответствующему стилю"
   ]
  },
  {
   "cell_type": "code",
   "execution_count": 26,
   "metadata": {},
   "outputs": [],
   "source": [
    "class Model(nn.Module):\n",
    "    def __init__(self, tokens_len):\n",
    "        super(self.__class__, self).__init__()\n",
    "        \n",
    "        self.conv1 = nn.Conv1d(1, 5, kernel_size=3, padding=1)\n",
    "        self.conv2 = nn.Conv1d(5, 20, kernel_size=5, padding=1)\n",
    "        \n",
    "        self.batchnorm1 = nn.BatchNorm1d(5)\n",
    "        self.dropout1 = nn.Dropout(0.5)\n",
    "        \n",
    "        tmp = math.floor(((tokens_len - 2) / 2 - 3) / 2 + 1)\n",
    "        self.dense1 = nn.Linear(20 * tmp, 1000)\n",
    "        self.dense2 = nn.Linear(1000, 50)\n",
    "        \n",
    "        self.batchnorm2 = nn.BatchNorm1d(50)\n",
    "        self.dropout2 = nn.Dropout(0.5)\n",
    "        \n",
    "        self.dense3 = nn.Linear(50, 3)\n",
    "        \n",
    "        self.softmax = nn.LogSoftmax(dim=1)\n",
    "        \n",
    "    def forward(self, x):\n",
    "        \n",
    "        x = self.conv1(x)\n",
    "        x = F.max_pool1d(x, 2, 2)\n",
    "        \n",
    "        x = self.batchnorm1(x)\n",
    "        x = self.dropout1(x)\n",
    "        \n",
    "        x = self.conv2(x)\n",
    "        x = F.max_pool1d(x, 2, 2)\n",
    "        \n",
    "        x = x.view(-1, x.shape[1] * x.shape[2])\n",
    "        \n",
    "        x = F.relu(self.dense1(x))\n",
    "        x = F.relu(self.dense2(x))\n",
    "        \n",
    "        x = self.batchnorm2(x)\n",
    "        x = self.dropout2(x)\n",
    "        \n",
    "        x = F.relu(self.dense3(x))\n",
    "        \n",
    "        return self.softmax(x)"
   ]
  },
  {
   "cell_type": "code",
   "execution_count": 27,
   "metadata": {},
   "outputs": [
    {
     "data": {
      "text/plain": [
       "Model(\n",
       "  (conv1): Conv1d(1, 5, kernel_size=(3,), stride=(1,), padding=(1,))\n",
       "  (conv2): Conv1d(5, 20, kernel_size=(5,), stride=(1,), padding=(1,))\n",
       "  (batchnorm1): BatchNorm1d(5, eps=1e-05, momentum=0.1, affine=True, track_running_stats=True)\n",
       "  (dropout1): Dropout(p=0.5, inplace=False)\n",
       "  (dense1): Linear(in_features=7620, out_features=1000, bias=True)\n",
       "  (dense2): Linear(in_features=1000, out_features=50, bias=True)\n",
       "  (batchnorm2): BatchNorm1d(50, eps=1e-05, momentum=0.1, affine=True, track_running_stats=True)\n",
       "  (dropout2): Dropout(p=0.5, inplace=False)\n",
       "  (dense3): Linear(in_features=50, out_features=3, bias=True)\n",
       "  (softmax): LogSoftmax(dim=1)\n",
       ")"
      ]
     },
     "execution_count": 27,
     "metadata": {},
     "output_type": "execute_result"
    }
   ],
   "source": [
    "model = Model(x_train.shape[1])\n",
    "model"
   ]
  },
  {
   "cell_type": "markdown",
   "metadata": {},
   "source": [
    "В качестве loss-функции возьмём $CrossEntropy$, а в качестве финальной метрики $Accuracy$"
   ]
  },
  {
   "cell_type": "code",
   "execution_count": 28,
   "metadata": {},
   "outputs": [],
   "source": [
    "optimizer = optim.Adam(model.parameters(), lr=0.01)\n",
    "criterion = nn.NLLLoss()\n",
    "\n",
    "train_loss_hist = []\n",
    "train_acc_hist = []\n",
    "test_loss_hist = []\n",
    "test_acc_hist = []"
   ]
  },
  {
   "cell_type": "markdown",
   "metadata": {},
   "source": [
    "Начнём само обучение:"
   ]
  },
  {
   "cell_type": "code",
   "execution_count": 32,
   "metadata": {},
   "outputs": [
    {
     "name": "stderr",
     "output_type": "stream",
     "text": [
      "100%|██████████| 10/10 [02:31<00:00, 15.18s/it]\n"
     ]
    }
   ],
   "source": [
    "for epoch in tqdm(range(10)):\n",
    "    \n",
    "    train_loss = 0\n",
    "    train_acc = 0\n",
    "    \n",
    "    train_batches = int(len(x_train) / 100)\n",
    "    \n",
    "    #optimize model on all train batches\n",
    "    for _ in range(train_batches):\n",
    "        optimizer.zero_grad() \n",
    "        \n",
    "        inp, out = get_batch(x_train, y_train, 100)\n",
    "        pred = model.forward(inp)\n",
    "\n",
    "        loss = criterion(pred, out)\n",
    "        loss.backward()\n",
    "        optimizer.step()\n",
    "        \n",
    "        train_loss += float(loss)\n",
    "        train_acc += get_accuracy(out, pred)\n",
    "    \n",
    "    # save loss and accuracy on train dataset\n",
    "    train_loss_hist.append(train_loss / train_batches)\n",
    "    train_acc_hist.append(train_acc / train_batches)\n",
    "    \n",
    "    \n",
    "    # calculate loss and accuracy on test dataset\n",
    "    inp, out = get_batch(x_val, y_val, len(x_val))\n",
    "    pred = model.forward(inp)\n",
    "    \n",
    "    test_loss = float(criterion(pred, out))\n",
    "    test_acc = get_accuracy(out, pred)\n",
    "    \n",
    "    test_loss_hist.append(test_loss)\n",
    "    test_acc_hist.append(test_acc)"
   ]
  },
  {
   "cell_type": "markdown",
   "metadata": {},
   "source": [
    "Давайте посмотрим на процесс обучение"
   ]
  },
  {
   "cell_type": "code",
   "execution_count": 33,
   "metadata": {
    "scrolled": false
   },
   "outputs": [
    {
     "data": {
      "text/plain": [
       "<matplotlib.legend.Legend at 0x7f9faa359fa0>"
      ]
     },
     "execution_count": 33,
     "metadata": {},
     "output_type": "execute_result"
    },
    {
     "data": {
      "image/png": "[encoded data removed]",
      "text/plain": [
       "<Figure size 1296x576 with 2 Axes>"
      ]
     },
     "metadata": {
      "needs_background": "light"
     },
     "output_type": "display_data"
    }
   ],
   "source": [
    "plt.figure(figsize=(18, 8))\n",
    "\n",
    "plt.subplot(121)\n",
    "plt.title('Loss history')\n",
    "plt.xlabel('Epoch')\n",
    "plt.ylabel('Loss')\n",
    "plt.plot(train_loss_hist, label='Train')\n",
    "plt.plot(test_loss_hist, label='Test')\n",
    "plt.legend()\n",
    "\n",
    "plt.subplot(122)\n",
    "plt.title('Accuracy history')\n",
    "plt.xlabel('Epoch')\n",
    "plt.ylabel('Accuracy')\n",
    "plt.plot(train_acc_hist, label='Train')\n",
    "plt.plot(test_acc_hist, label='Test')\n",
    "plt.legend()"
   ]
  },
  {
   "cell_type": "markdown",
   "metadata": {},
   "source": [
    "Почему-то loss на тесте не падает. Возможно это вызвано тем, что токены на трейне и тесте отличаются.\n",
    "\n",
    "При этом accuracy медленно, но верно растёт. И даже за одну эпоху очень хороший уровень качества"
   ]
  },
  {
   "cell_type": "markdown",
   "metadata": {},
   "source": [
    "### Accuracy на тестовой выборке"
   ]
  },
  {
   "cell_type": "code",
   "execution_count": 35,
   "metadata": {},
   "outputs": [
    {
     "data": {
      "text/plain": [
       "0.8832"
      ]
     },
     "execution_count": 35,
     "metadata": {},
     "output_type": "execute_result"
    }
   ],
   "source": [
    "inp, out = get_batch(x_val, y_val, len(x_val))\n",
    "pred = model.forward(inp)\n",
    "get_accuracy(out, pred)"
   ]
  },
  {
   "cell_type": "markdown",
   "metadata": {},
   "source": [
    "### Save model"
   ]
  },
  {
   "cell_type": "code",
   "execution_count": 36,
   "metadata": {},
   "outputs": [],
   "source": [
    "torch.save(model, 'MODEL')"
   ]
  },
  {
   "cell_type": "code",
   "execution_count": 37,
   "metadata": {},
   "outputs": [],
   "source": [
    "import pickle\n",
    "\n",
    "pickle.dump(vectorizer, open(\"tfidf.pickle\", \"wb\"))"
   ]
  },
  {
   "cell_type": "code",
   "execution_count": null,
   "metadata": {},
   "outputs": [],
   "source": []
  }
 ],
 "metadata": {
  "kernelspec": {
   "display_name": "Python 3",
   "language": "python",
   "name": "python3"
  },
  "language_info": {
   "codemirror_mode": {
    "name": "ipython",
    "version": 3
   },
   "file_extension": ".py",
   "mimetype": "text/x-python",
   "name": "python",
   "nbconvert_exporter": "python",
   "pygments_lexer": "ipython3",
   "version": "3.8.3"
  }
 },
 "nbformat": 4,
 "nbformat_minor": 4
}
